{
 "cells": [
  {
   "cell_type": "code",
   "execution_count": 1,
   "metadata": {},
   "outputs": [
    {
     "name": "stderr",
     "output_type": "stream",
     "text": [
      "┌ Info: Episode 1 finished after 98 steps. Total reward: -118.36318583197948\n",
      "└ @ Main /root/JuliaRL/src/main.jl:13\n"
     ]
    },
    {
     "ename": "LoadError",
     "evalue": "InterruptException:",
     "output_type": "error",
     "traceback": [
      "InterruptException:",
      "",
      "Stacktrace:",
      " [1] sigatomic_end at ./c.jl:425 [inlined]",
      " [2] disable_sigint at ./c.jl:448 [inlined]",
      " [3] __pycall! at /root/.julia/packages/PyCall/BcTLp/src/pyfncall.jl:42 [inlined]",
      " [4] _pycall!(::PyCall.PyObject, ::PyCall.PyObject, ::Tuple{}, ::Int64, ::Ptr{Nothing}) at /root/.julia/packages/PyCall/BcTLp/src/pyfncall.jl:29",
      " [5] _pycall! at /root/.julia/packages/PyCall/BcTLp/src/pyfncall.jl:11 [inlined]",
      " [6] #pycall#116 at /root/.julia/packages/PyCall/BcTLp/src/pyfncall.jl:83 [inlined]",
      " [7] pycall(::PyCall.PyObject, ::Type{PyCall.PyAny}) at /root/.julia/packages/PyCall/BcTLp/src/pyfncall.jl:83",
      " [8] render(::GymEnv{PyCall.PyArray{Float64,1}}; kwargs::Base.Iterators.Pairs{Union{},Union{},Tuple{},NamedTuple{(),Tuple{}}}) at /root/.julia/packages/OpenAIGym/iNi3I/src/OpenAIGym.jl:93",
      " [9] render(::GymEnv{PyCall.PyArray{Float64,1}}) at /root/.julia/packages/OpenAIGym/iNi3I/src/OpenAIGym.jl:93",
      " [10] (::var\"#3#4\")(::Tuple{PyCall.PyArray{Float64,1},Array{Float64,1},Float64,PyCall.PyArray{Float64,1}}) at /root/JuliaRL/src/main.jl:10",
      " [11] run_episode(::var\"#3#4\", ::GymEnv{PyCall.PyArray{Float64,1}}, ::RandomPolicy) at /root/JuliaRL/dev/Reinforce/src/episodes/iterators.jl:66",
      " [12] top-level scope at /root/JuliaRL/src/main.jl:9",
      " [13] include(::String) at ./client.jl:439",
      " [14] top-level scope at In[1]:1"
     ]
    }
   ],
   "source": [
    "include(\"./main.jl\")"
   ]
  },
  {
   "cell_type": "code",
   "execution_count": null,
   "metadata": {},
   "outputs": [],
   "source": []
  },
  {
   "cell_type": "code",
   "execution_count": null,
   "metadata": {},
   "outputs": [],
   "source": []
  }
 ],
 "metadata": {
  "kernelspec": {
   "display_name": "Julia 1.4.1",
   "language": "julia",
   "name": "julia-1.4"
  },
  "language_info": {
   "file_extension": ".jl",
   "mimetype": "application/julia",
   "name": "julia",
   "version": "1.4.1"
  }
 },
 "nbformat": 4,
 "nbformat_minor": 4
}
